{
 "cells": [
  {
   "cell_type": "code",
   "execution_count": 1,
   "metadata": {},
   "outputs": [],
   "source": [
    "import numpy as np"
   ]
  },
  {
   "cell_type": "code",
   "execution_count": 2,
   "metadata": {},
   "outputs": [],
   "source": [
    "# Load binarized mnist data\n",
    "mnist_binary = np.load('imgData/mnist_binary.npz')"
   ]
  },
  {
   "cell_type": "code",
   "execution_count": 3,
   "metadata": {},
   "outputs": [
    {
     "data": {
      "text/plain": [
       "['train_images', 'train_labels', 'test_images', 'test_labels']"
      ]
     },
     "execution_count": 3,
     "metadata": {},
     "output_type": "execute_result"
    }
   ],
   "source": [
    "mnist_binary.files"
   ]
  },
  {
   "cell_type": "code",
   "execution_count": 7,
   "metadata": {},
   "outputs": [],
   "source": [
    "train_non_zero_per_row = np.sum(mnist_binary['train_images'], axis=1)\n",
    "train_non_zero_per_col = np.sum(mnist_binary['train_images'], axis=2)\n",
    "test_non_zero_per_row = np.sum(mnist_binary['test_images'], axis=1)\n",
    "test_non_zero_per_col = np.sum(mnist_binary['test_images'], axis=2)"
   ]
  },
  {
   "cell_type": "code",
   "execution_count": 14,
   "metadata": {},
   "outputs": [],
   "source": [
    "# Stack non-zero per row and column for train and test\n",
    "train_non_zero = np.column_stack((train_non_zero_per_row, train_non_zero_per_col))\n",
    "test_non_zero = np.column_stack((test_non_zero_per_row, test_non_zero_per_col))"
   ]
  },
  {
   "cell_type": "code",
   "execution_count": 17,
   "metadata": {},
   "outputs": [],
   "source": [
    "# Save data\n",
    "np.savez('final_Data/mnist_non_zero_train.npz', features=train_non_zero, labels=mnist_binary['train_labels'])\n",
    "np.savez('final_Data/mnist_non_zero_test.npz', features=test_non_zero, labels=mnist_binary['test_labels'])"
   ]
  },
  {
   "cell_type": "code",
   "execution_count": null,
   "metadata": {},
   "outputs": [],
   "source": []
  }
 ],
 "metadata": {
  "kernelspec": {
   "display_name": "rss",
   "language": "python",
   "name": "python3"
  },
  "language_info": {
   "codemirror_mode": {
    "name": "ipython",
    "version": 3
   },
   "file_extension": ".py",
   "mimetype": "text/x-python",
   "name": "python",
   "nbconvert_exporter": "python",
   "pygments_lexer": "ipython3",
   "version": "3.12.2"
  }
 },
 "nbformat": 4,
 "nbformat_minor": 2
}
